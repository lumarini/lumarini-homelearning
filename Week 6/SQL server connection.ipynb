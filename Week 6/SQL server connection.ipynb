{
 "cells": [
  {
   "cell_type": "markdown",
   "metadata": {},
   "source": [
    "Create new password database using python and exporting to SQL server."
   ]
  },
  {
   "cell_type": "markdown",
   "metadata": {},
   "source": [
    "1. Import required modules"
   ]
  },
  {
   "cell_type": "code",
   "execution_count": 1,
   "metadata": {},
   "outputs": [],
   "source": [
    "import string\n",
    "import random\n",
    "import pandas as pd"
   ]
  },
  {
   "cell_type": "markdown",
   "metadata": {},
   "source": [
    "2. Create fixed usernames, set as \"Guest_(N)\", where N is an unique user identifyer."
   ]
  },
  {
   "cell_type": "code",
   "execution_count": 2,
   "metadata": {},
   "outputs": [],
   "source": [
    "username = [f\"Guest_{n}\" for n in range(1, 100)]      #using list comprehension instead of usual loop"
   ]
  },
  {
   "cell_type": "markdown",
   "metadata": {},
   "source": [
    "3. Check the output of the list comprehension created above:"
   ]
  },
  {
   "cell_type": "code",
   "execution_count": 3,
   "metadata": {},
   "outputs": [
    {
     "name": "stdout",
     "output_type": "stream",
     "text": [
      "['Guest_1', 'Guest_2', 'Guest_3', 'Guest_4', 'Guest_5', 'Guest_6', 'Guest_7', 'Guest_8', 'Guest_9', 'Guest_10', 'Guest_11', 'Guest_12', 'Guest_13', 'Guest_14', 'Guest_15', 'Guest_16', 'Guest_17', 'Guest_18', 'Guest_19', 'Guest_20', 'Guest_21', 'Guest_22', 'Guest_23', 'Guest_24', 'Guest_25', 'Guest_26', 'Guest_27', 'Guest_28', 'Guest_29', 'Guest_30', 'Guest_31', 'Guest_32', 'Guest_33', 'Guest_34', 'Guest_35', 'Guest_36', 'Guest_37', 'Guest_38', 'Guest_39', 'Guest_40', 'Guest_41', 'Guest_42', 'Guest_43', 'Guest_44', 'Guest_45', 'Guest_46', 'Guest_47', 'Guest_48', 'Guest_49', 'Guest_50', 'Guest_51', 'Guest_52', 'Guest_53', 'Guest_54', 'Guest_55', 'Guest_56', 'Guest_57', 'Guest_58', 'Guest_59', 'Guest_60', 'Guest_61', 'Guest_62', 'Guest_63', 'Guest_64', 'Guest_65', 'Guest_66', 'Guest_67', 'Guest_68', 'Guest_69', 'Guest_70', 'Guest_71', 'Guest_72', 'Guest_73', 'Guest_74', 'Guest_75', 'Guest_76', 'Guest_77', 'Guest_78', 'Guest_79', 'Guest_80', 'Guest_81', 'Guest_82', 'Guest_83', 'Guest_84', 'Guest_85', 'Guest_86', 'Guest_87', 'Guest_88', 'Guest_89', 'Guest_90', 'Guest_91', 'Guest_92', 'Guest_93', 'Guest_94', 'Guest_95', 'Guest_96', 'Guest_97', 'Guest_98', 'Guest_99']\n"
     ]
    }
   ],
   "source": [
    "print(username)"
   ]
  },
  {
   "cell_type": "markdown",
   "metadata": {},
   "source": [
    "4. Generate list of randomly generated passwords by creating a python function (definition) and check the output:"
   ]
  },
  {
   "cell_type": "code",
   "execution_count": 4,
   "metadata": {},
   "outputs": [
    {
     "name": "stdout",
     "output_type": "stream",
     "text": [
      "['CG4nkE', 'xgQTxT', 'Bl9zon', 'lzPion', 'chRK2b', 'IvO3fy', 'bcKNYb', 'eva4Le', 'n7cEQJ', 'K0XwjR', 'uP4TP0', 'iOdc1R', 'v5NsgL', 'WUDMNb', 'xyZdpW', 'tTKcL2', 'qwijsi', 'X97liK', 'Lzm0NH', 'okDDbX', '64NXY2', 'J6B58F', '3YnX2F', 'YqWETS', 'Lk6F9c', 'k7h7eN', 'ee89nu', 'jOTzFY', 'T7Z7qQ', '5HQnVP', 'TB9MoS', 'Yo8syu', '1HiXmi', 'W2w9oK', 'SF5DOd', 'gHGNaF', 'ym4Pwo', 'V61Wrq', 'QRarvk', 'ilbeYJ', 'RJinOY', 'eN5v24', '7xuKhb', 'H9XHw3', 'ViJWPR', '4lIXA0', 'zdehaZ', '1LnRSC', 'nBIts6', 'mmGDCr', 'W6zFjr', 'hQsMqc', 'Nb5FT1', 'rq81eJ', '77LhmF', 'paT5OX', 'RnHDIe', 'scKhqc', 'bOeLsB', 'Q4rPCy', '2f7DJb', 'tHZErZ', 'OcWWN0', 'EGlSCy', 'GyquDc', 'Tnrqbu', '9alfQC', 'SKbhOL', 'QQZYr3', 'FrTdsO', 'XQNbFN', 'N7g19G', 'JJQENh', 'rsb2iB', 'ugPkyd', '9FsHeI', 'fLo5ju', '9SQtzC', 'aM9Dnw', '4XBmVT', '8gaBbB', 'G7VjSd', 'mP3LXd', 'epqsMu', 'VQc61I', 'NUjidc', 'DU4Il0', 'VKvLlz', 'nqPj07', 'JBx7D3', 'sCjvco', 'ru8sDD', 'nbZ2tA', 'zl2ZjH', 'Oy0OSQ', 'Sa2WQr', 'd8QW8v', 'TQ8DZg', 'HGOFBN']\n"
     ]
    }
   ],
   "source": [
    "char = string.ascii_letters + string.digits\n",
    "\n",
    "\n",
    "def pwd_generator():\n",
    "    return \"\".join(random.choices(char, k=6))\n",
    "\n",
    "\n",
    "password = [pwd_generator() for n in range(len(username))]\n",
    "\n",
    "\n",
    "print(password)"
   ]
  },
  {
   "cell_type": "markdown",
   "metadata": {},
   "source": [
    "5. Pair all usernames against its respectives passwords on a dataframe using pandas module"
   ]
  },
  {
   "cell_type": "code",
   "execution_count": 5,
   "metadata": {},
   "outputs": [
    {
     "name": "stdout",
     "output_type": "stream",
     "text": [
      "    username password\n",
      "0    Guest_1   CG4nkE\n",
      "1    Guest_2   xgQTxT\n",
      "2    Guest_3   Bl9zon\n",
      "3    Guest_4   lzPion\n",
      "4    Guest_5   chRK2b\n",
      "..       ...      ...\n",
      "94  Guest_95   Oy0OSQ\n",
      "95  Guest_96   Sa2WQr\n",
      "96  Guest_97   d8QW8v\n",
      "97  Guest_98   TQ8DZg\n",
      "98  Guest_99   HGOFBN\n",
      "\n",
      "[99 rows x 2 columns]\n"
     ]
    }
   ],
   "source": [
    "df = pd.DataFrame(data={\"username\": username, \"password\": password})\n",
    "\n",
    "print(df)"
   ]
  },
  {
   "cell_type": "markdown",
   "metadata": {},
   "source": [
    "6. Export dataframe to .CSV format file, which will be then uploaded onto local or cloud database: (the dataframe will be indexated for facilitating transforming all rows onto JavaScript objects later on)."
   ]
  },
  {
   "cell_type": "code",
   "execution_count": 6,
   "metadata": {},
   "outputs": [],
   "source": [
    "df.to_csv(\"C:/Users/luci/Desktop/pwd_db2.csv\", sep=',', index=True)"
   ]
  },
  {
   "cell_type": "markdown",
   "metadata": {},
   "source": [
    "7. on MS SQL Studio: Connect > New Database... > create new database as desired. On this database, import the .CSV file created above as a flat file (right-click -> Tasks -> Import flat file) and confirm all table details. At the end of this process, the new database will have the password data and can be accessed and queried using SQL using the IDE for SQL. Alternatively, the database can be accessed and queried using a combination of SQL python, on the steps below: "
   ]
  },
  {
   "cell_type": "code",
   "execution_count": 7,
   "metadata": {},
   "outputs": [],
   "source": [
    "import pyodbc #necessary for starting connection with database"
   ]
  },
  {
   "cell_type": "markdown",
   "metadata": {},
   "source": [
    "8. Create a connection with the database:"
   ]
  },
  {
   "cell_type": "code",
   "execution_count": 8,
   "metadata": {},
   "outputs": [
    {
     "name": "stdout",
     "output_type": "stream",
     "text": [
      "('0', 'Guest_1', 'CG4nkE')\n",
      "('1', 'Guest_2', 'xgQTxT')\n",
      "('2', 'Guest_3', 'Bl9zon')\n",
      "('3', 'Guest_4', 'lzPion')\n",
      "('4', 'Guest_5', 'chRK2b')\n",
      "('5', 'Guest_6', 'IvO3fy')\n",
      "('6', 'Guest_7', 'bcKNYb')\n",
      "('7', 'Guest_8', 'eva4Le')\n",
      "('8', 'Guest_9', 'n7cEQJ')\n",
      "('9', 'Guest_10', 'K0XwjR')\n",
      "('10', 'Guest_11', 'uP4TP0')\n",
      "('11', 'Guest_12', 'iOdc1R')\n",
      "('12', 'Guest_13', 'v5NsgL')\n",
      "('13', 'Guest_14', 'WUDMNb')\n",
      "('14', 'Guest_15', 'xyZdpW')\n",
      "('15', 'Guest_16', 'tTKcL2')\n",
      "('16', 'Guest_17', 'qwijsi')\n",
      "('17', 'Guest_18', 'X97liK')\n",
      "('18', 'Guest_19', 'Lzm0NH')\n",
      "('19', 'Guest_20', 'okDDbX')\n",
      "('20', 'Guest_21', '64NXY2')\n",
      "('21', 'Guest_22', 'J6B58F')\n",
      "('22', 'Guest_23', '3YnX2F')\n",
      "('23', 'Guest_24', 'YqWETS')\n",
      "('24', 'Guest_25', 'Lk6F9c')\n",
      "('25', 'Guest_26', 'k7h7eN')\n",
      "('26', 'Guest_27', 'ee89nu')\n",
      "('27', 'Guest_28', 'jOTzFY')\n",
      "('28', 'Guest_29', 'T7Z7qQ')\n",
      "('29', 'Guest_30', '5HQnVP')\n",
      "('30', 'Guest_31', 'TB9MoS')\n",
      "('31', 'Guest_32', 'Yo8syu')\n",
      "('32', 'Guest_33', '1HiXmi')\n",
      "('33', 'Guest_34', 'W2w9oK')\n",
      "('34', 'Guest_35', 'SF5DOd')\n",
      "('35', 'Guest_36', 'gHGNaF')\n",
      "('36', 'Guest_37', 'ym4Pwo')\n",
      "('37', 'Guest_38', 'V61Wrq')\n",
      "('38', 'Guest_39', 'QRarvk')\n",
      "('39', 'Guest_40', 'ilbeYJ')\n",
      "('40', 'Guest_41', 'RJinOY')\n",
      "('41', 'Guest_42', 'eN5v24')\n",
      "('42', 'Guest_43', '7xuKhb')\n",
      "('43', 'Guest_44', 'H9XHw3')\n",
      "('44', 'Guest_45', 'ViJWPR')\n",
      "('45', 'Guest_46', '4lIXA0')\n",
      "('46', 'Guest_47', 'zdehaZ')\n",
      "('47', 'Guest_48', '1LnRSC')\n",
      "('48', 'Guest_49', 'nBIts6')\n",
      "('49', 'Guest_50', 'mmGDCr')\n",
      "('50', 'Guest_51', 'W6zFjr')\n",
      "('51', 'Guest_52', 'hQsMqc')\n",
      "('52', 'Guest_53', 'Nb5FT1')\n",
      "('53', 'Guest_54', 'rq81eJ')\n",
      "('54', 'Guest_55', '77LhmF')\n",
      "('55', 'Guest_56', 'paT5OX')\n",
      "('56', 'Guest_57', 'RnHDIe')\n",
      "('57', 'Guest_58', 'scKhqc')\n",
      "('58', 'Guest_59', 'bOeLsB')\n",
      "('59', 'Guest_60', 'Q4rPCy')\n",
      "('60', 'Guest_61', '2f7DJb')\n",
      "('61', 'Guest_62', 'tHZErZ')\n",
      "('62', 'Guest_63', 'OcWWN0')\n",
      "('63', 'Guest_64', 'EGlSCy')\n",
      "('64', 'Guest_65', 'GyquDc')\n",
      "('65', 'Guest_66', 'Tnrqbu')\n",
      "('66', 'Guest_67', '9alfQC')\n",
      "('67', 'Guest_68', 'SKbhOL')\n",
      "('68', 'Guest_69', 'QQZYr3')\n",
      "('69', 'Guest_70', 'FrTdsO')\n",
      "('70', 'Guest_71', 'XQNbFN')\n",
      "('71', 'Guest_72', 'N7g19G')\n",
      "('72', 'Guest_73', 'JJQENh')\n",
      "('73', 'Guest_74', 'rsb2iB')\n",
      "('74', 'Guest_75', 'ugPkyd')\n",
      "('75', 'Guest_76', '9FsHeI')\n",
      "('76', 'Guest_77', 'fLo5ju')\n",
      "('77', 'Guest_78', '9SQtzC')\n",
      "('78', 'Guest_79', 'aM9Dnw')\n",
      "('79', 'Guest_80', '4XBmVT')\n",
      "('80', 'Guest_81', '8gaBbB')\n",
      "('81', 'Guest_82', 'G7VjSd')\n",
      "('82', 'Guest_83', 'mP3LXd')\n",
      "('83', 'Guest_84', 'epqsMu')\n",
      "('84', 'Guest_85', 'VQc61I')\n",
      "('85', 'Guest_86', 'NUjidc')\n",
      "('86', 'Guest_87', 'DU4Il0')\n",
      "('87', 'Guest_88', 'VKvLlz')\n",
      "('88', 'Guest_89', 'nqPj07')\n",
      "('89', 'Guest_90', 'JBx7D3')\n",
      "('90', 'Guest_91', 'sCjvco')\n",
      "('91', 'Guest_92', 'ru8sDD')\n",
      "('92', 'Guest_93', 'nbZ2tA')\n",
      "('93', 'Guest_94', 'zl2ZjH')\n",
      "('94', 'Guest_95', 'Oy0OSQ')\n",
      "('95', 'Guest_96', 'Sa2WQr')\n",
      "('96', 'Guest_97', 'd8QW8v')\n",
      "('97', 'Guest_98', 'TQ8DZg')\n",
      "('98', 'Guest_99', 'HGOFBN')\n"
     ]
    }
   ],
   "source": [
    "conn_string = (r'Driver={SQL Server};'\n",
    "                      r'Server=LUCIANAS-LAPTOP;'\n",
    "                      r'Database=password;'\n",
    "                      r'Trusted_Connection=yes;')\n",
    "\n",
    "conn = pyodbc.connect(conn_string)\n",
    "\n",
    "cursor = conn.cursor()\n",
    "\n",
    "cursor.execute('SELECT * FROM password.dbo.pwd_db2;')\n",
    "\n",
    "for row in cursor:\n",
    "    print(row)"
   ]
  },
  {
   "cell_type": "code",
   "execution_count": null,
   "metadata": {},
   "outputs": [],
   "source": []
  }
 ],
 "metadata": {
  "kernelspec": {
   "display_name": "Python 3",
   "language": "python",
   "name": "python3"
  },
  "language_info": {
   "codemirror_mode": {
    "name": "ipython",
    "version": 3
   },
   "file_extension": ".py",
   "mimetype": "text/x-python",
   "name": "python",
   "nbconvert_exporter": "python",
   "pygments_lexer": "ipython3",
   "version": "3.8.5"
  }
 },
 "nbformat": 4,
 "nbformat_minor": 4
}
